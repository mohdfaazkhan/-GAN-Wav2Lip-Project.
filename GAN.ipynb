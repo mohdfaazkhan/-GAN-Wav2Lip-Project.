{
  "nbformat": 4,
  "nbformat_minor": 0,
  "metadata": {
    "colab": {
      "provenance": [],
      "mount_file_id": "11rNgfGkGxLCkeoz5wpgKlP5JouJMS4yk",
      "authorship_tag": "ABX9TyORGgZ+oku4J+hp+UKiv+7q",
      "include_colab_link": true
    },
    "kernelspec": {
      "name": "python3",
      "display_name": "Python 3"
    },
    "language_info": {
      "name": "python"
    },
    "accelerator": "GPU",
    "gpuClass": "standard"
  },
  "cells": [
    {
      "cell_type": "markdown",
      "metadata": {
        "id": "view-in-github",
        "colab_type": "text"
      },
      "source": [
        "<a href=\"https://colab.research.google.com/github/mohdfaazkhan/-GAN-Wav2Lip-Project./blob/main/GAN.ipynb\" target=\"_parent\"><img src=\"https://colab.research.google.com/assets/colab-badge.svg\" alt=\"Open In Colab\"/></a>"
      ]
    },
    {
      "cell_type": "markdown",
      "source": [
        "# Project:- Giving lipsing to vedio .\n",
        "# You have have to download this Model from this repo. https://github.com/Rudrabha/Wav2Lip#wav2lip-accurately-lip-syncing-videos-in-the-wild"
      ],
      "metadata": {
        "id": "_Hatqp-BCQyM"
      }
    },
    {
      "cell_type": "markdown",
      "source": [
        "**A Lip Sync Expert Is All You Need for Speech to Lip Generation In The Wild**\n",
        "\n",
        "**Wav2Lip + GAN**\n",
        "\n",
        "**Note:** Please enable GPU while using this."
      ],
      "metadata": {
        "id": "6MXObpES9wkT"
      }
    },
    {
      "cell_type": "code",
      "execution_count": null,
      "metadata": {
        "colab": {
          "base_uri": "https://localhost:8080/"
        },
        "id": "LTU0Hci7VWzQ",
        "outputId": "42c8104f-d748-4edc-b6e2-78dc0a70f079"
      },
      "outputs": [
        {
          "output_type": "stream",
          "name": "stdout",
          "text": [
            "nvcc: NVIDIA (R) Cuda compiler driver\n",
            "Copyright (c) 2005-2020 NVIDIA Corporation\n",
            "Built on Mon_Oct_12_20:09:46_PDT_2020\n",
            "Cuda compilation tools, release 11.1, V11.1.105\n",
            "Build cuda_11.1.TC455_06.29190527_0\n"
          ]
        }
      ],
      "source": [
        "!nvcc --version"
      ]
    },
    {
      "cell_type": "code",
      "source": [
        "from google.colab import drive\n",
        "drive.mount('/content/gdrive')"
      ],
      "metadata": {
        "colab": {
          "base_uri": "https://localhost:8080/"
        },
        "id": "Q3Fn7d9TVdxa",
        "outputId": "60d323e1-0cd5-4474-d4a4-9a4482fb71a2"
      },
      "execution_count": null,
      "outputs": [
        {
          "output_type": "stream",
          "name": "stdout",
          "text": [
            "Mounted at /content/gdrive\n"
          ]
        }
      ]
    },
    {
      "cell_type": "code",
      "source": [
        "!git clone https://github.com/Rudrabha/Wav2Lip.git"
      ],
      "metadata": {
        "colab": {
          "base_uri": "https://localhost:8080/"
        },
        "id": "7rYvzjAIVdza",
        "outputId": "e63988fb-63f5-49a3-f165-f9a79be3b880"
      },
      "execution_count": null,
      "outputs": [
        {
          "output_type": "stream",
          "name": "stdout",
          "text": [
            "Cloning into 'Wav2Lip'...\n",
            "remote: Enumerating objects: 360, done.\u001b[K\n",
            "remote: Total 360 (delta 0), reused 0 (delta 0), pack-reused 360\u001b[K\n",
            "Receiving objects: 100% (360/360), 522.32 KiB | 19.34 MiB/s, done.\n",
            "Resolving deltas: 100% (198/198), done.\n"
          ]
        }
      ]
    },
    {
      "cell_type": "code",
      "source": [
        "!ls"
      ],
      "metadata": {
        "colab": {
          "base_uri": "https://localhost:8080/"
        },
        "id": "KY7xcETpVd1h",
        "outputId": "4f8c862d-74c8-4d45-c45a-172c8692ff47"
      },
      "execution_count": null,
      "outputs": [
        {
          "output_type": "stream",
          "name": "stdout",
          "text": [
            "drive  gdrive  sample_data  Wav2Lip\n"
          ]
        }
      ]
    },
    {
      "cell_type": "markdown",
      "source": [],
      "metadata": {
        "id": "svAaR4ynxXLw"
      }
    },
    {
      "cell_type": "code",
      "source": [
        "!cp -ri \"/content/gdrive/MyDrive/Wav2lip/wav2lip_gan.pth\" /content/Wav2Lip/checkpoints/"
      ],
      "metadata": {
        "id": "pRxaGqcJVd4y"
      },
      "execution_count": null,
      "outputs": []
    },
    {
      "cell_type": "code",
      "source": [
        "from google.colab import drive\n",
        "drive.mount('/content/drive')"
      ],
      "metadata": {
        "id": "atmIZ93o6lIx"
      },
      "execution_count": null,
      "outputs": []
    },
    {
      "cell_type": "code",
      "source": [
        "!pip uninstall tensorflow tensorflow-gpu"
      ],
      "metadata": {
        "id": "s6tlz65wXlFg",
        "colab": {
          "base_uri": "https://localhost:8080/"
        },
        "outputId": "6b44de10-ae87-4783-e515-beea92f36f86"
      },
      "execution_count": null,
      "outputs": [
        {
          "output_type": "stream",
          "name": "stdout",
          "text": [
            "Found existing installation: tensorflow 2.8.2+zzzcolab20220719082949\n",
            "Uninstalling tensorflow-2.8.2+zzzcolab20220719082949:\n",
            "  Would remove:\n",
            "    /usr/local/bin/estimator_ckpt_converter\n",
            "    /usr/local/bin/import_pb_to_tensorboard\n",
            "    /usr/local/bin/saved_model_cli\n",
            "    /usr/local/bin/tensorboard\n",
            "    /usr/local/bin/tf_upgrade_v2\n",
            "    /usr/local/bin/tflite_convert\n",
            "    /usr/local/bin/toco\n",
            "    /usr/local/bin/toco_from_protos\n",
            "    /usr/local/lib/python3.7/dist-packages/tensorflow-2.8.2+zzzcolab20220719082949.dist-info/*\n",
            "    /usr/local/lib/python3.7/dist-packages/tensorflow/*\n",
            "Proceed (y/n)? y\n",
            "  Successfully uninstalled tensorflow-2.8.2+zzzcolab20220719082949\n",
            "\u001b[33mWARNING: Skipping tensorflow-gpu as it is not installed.\u001b[0m\n"
          ]
        }
      ]
    },
    {
      "cell_type": "code",
      "source": [
        "!cd Wav2Lip && pip install -r requirements.txt"
      ],
      "metadata": {
        "id": "OOr_RSJGXlIA",
        "colab": {
          "base_uri": "https://localhost:8080/"
        },
        "outputId": "e6c6d905-75d0-40b2-ecc2-8aa8281628f2"
      },
      "execution_count": null,
      "outputs": [
        {
          "output_type": "stream",
          "name": "stdout",
          "text": [
            "Looking in indexes: https://pypi.org/simple, https://us-python.pkg.dev/colab-wheels/public/simple/\n",
            "Collecting librosa==0.7.0\n",
            "  Downloading librosa-0.7.0.tar.gz (1.6 MB)\n",
            "\u001b[K     |████████████████████████████████| 1.6 MB 25.7 MB/s \n",
            "\u001b[?25hCollecting numpy==1.17.1\n",
            "  Downloading numpy-1.17.1-cp37-cp37m-manylinux1_x86_64.whl (20.3 MB)\n",
            "\u001b[K     |████████████████████████████████| 20.3 MB 1.2 MB/s \n",
            "\u001b[?25hRequirement already satisfied: opencv-contrib-python>=4.2.0.34 in /usr/local/lib/python3.7/dist-packages (from -r requirements.txt (line 3)) (4.6.0.66)\n",
            "Collecting opencv-python==4.1.0.25\n",
            "  Downloading opencv_python-4.1.0.25-cp37-cp37m-manylinux1_x86_64.whl (26.6 MB)\n",
            "\u001b[K     |████████████████████████████████| 26.6 MB 1.3 MB/s \n",
            "\u001b[?25hCollecting torch==1.1.0\n",
            "  Downloading torch-1.1.0-cp37-cp37m-manylinux1_x86_64.whl (676.9 MB)\n",
            "\u001b[K     |████████████████████████████████| 676.9 MB 3.5 kB/s \n",
            "\u001b[?25hCollecting torchvision==0.3.0\n",
            "  Downloading torchvision-0.3.0-cp37-cp37m-manylinux1_x86_64.whl (2.6 MB)\n",
            "\u001b[K     |████████████████████████████████| 2.6 MB 51.6 MB/s \n",
            "\u001b[?25hCollecting tqdm==4.45.0\n",
            "  Downloading tqdm-4.45.0-py2.py3-none-any.whl (60 kB)\n",
            "\u001b[K     |████████████████████████████████| 60 kB 8.8 MB/s \n",
            "\u001b[?25hCollecting numba==0.48\n",
            "  Downloading numba-0.48.0-1-cp37-cp37m-manylinux2014_x86_64.whl (3.5 MB)\n",
            "\u001b[K     |████████████████████████████████| 3.5 MB 20.2 MB/s \n",
            "\u001b[?25hRequirement already satisfied: audioread>=2.0.0 in /usr/local/lib/python3.7/dist-packages (from librosa==0.7.0->-r requirements.txt (line 1)) (2.1.9)\n",
            "Requirement already satisfied: scipy>=1.0.0 in /usr/local/lib/python3.7/dist-packages (from librosa==0.7.0->-r requirements.txt (line 1)) (1.7.3)\n",
            "Requirement already satisfied: scikit-learn!=0.19.0,>=0.14.0 in /usr/local/lib/python3.7/dist-packages (from librosa==0.7.0->-r requirements.txt (line 1)) (1.0.2)\n",
            "Requirement already satisfied: joblib>=0.12 in /usr/local/lib/python3.7/dist-packages (from librosa==0.7.0->-r requirements.txt (line 1)) (1.1.0)\n",
            "Requirement already satisfied: decorator>=3.0.0 in /usr/local/lib/python3.7/dist-packages (from librosa==0.7.0->-r requirements.txt (line 1)) (4.4.2)\n",
            "Requirement already satisfied: six>=1.3 in /usr/local/lib/python3.7/dist-packages (from librosa==0.7.0->-r requirements.txt (line 1)) (1.15.0)\n",
            "Requirement already satisfied: resampy>=0.2.0 in /usr/local/lib/python3.7/dist-packages (from librosa==0.7.0->-r requirements.txt (line 1)) (0.3.1)\n",
            "Requirement already satisfied: soundfile>=0.9.0 in /usr/local/lib/python3.7/dist-packages (from librosa==0.7.0->-r requirements.txt (line 1)) (0.10.3.post1)\n",
            "Requirement already satisfied: pillow>=4.1.1 in /usr/local/lib/python3.7/dist-packages (from torchvision==0.3.0->-r requirements.txt (line 6)) (7.1.2)\n",
            "Collecting llvmlite<0.32.0,>=0.31.0dev0\n",
            "  Downloading llvmlite-0.31.0-cp37-cp37m-manylinux1_x86_64.whl (20.2 MB)\n",
            "\u001b[K     |████████████████████████████████| 20.2 MB 1.2 MB/s \n",
            "\u001b[?25hRequirement already satisfied: setuptools in /usr/local/lib/python3.7/dist-packages (from numba==0.48->-r requirements.txt (line 8)) (57.4.0)\n",
            "Requirement already satisfied: threadpoolctl>=2.0.0 in /usr/local/lib/python3.7/dist-packages (from scikit-learn!=0.19.0,>=0.14.0->librosa==0.7.0->-r requirements.txt (line 1)) (3.1.0)\n",
            "Requirement already satisfied: cffi>=1.0 in /usr/local/lib/python3.7/dist-packages (from soundfile>=0.9.0->librosa==0.7.0->-r requirements.txt (line 1)) (1.15.1)\n",
            "Requirement already satisfied: pycparser in /usr/local/lib/python3.7/dist-packages (from cffi>=1.0->soundfile>=0.9.0->librosa==0.7.0->-r requirements.txt (line 1)) (2.21)\n",
            "Building wheels for collected packages: librosa\n",
            "  Building wheel for librosa (setup.py) ... \u001b[?25l\u001b[?25hdone\n",
            "  Created wheel for librosa: filename=librosa-0.7.0-py3-none-any.whl size=1598360 sha256=769f04806030b0c4b764d15c444a7dd18d58e2be085226bf664286351cded109\n",
            "  Stored in directory: /root/.cache/pip/wheels/f5/0d/b1/71a4e1863d7577a218f771df59c7582996580fa07ac79d68fd\n",
            "Successfully built librosa\n",
            "Installing collected packages: numpy, llvmlite, numba, torch, tqdm, torchvision, opencv-python, librosa\n",
            "  Attempting uninstall: numpy\n",
            "    Found existing installation: numpy 1.21.6\n",
            "    Uninstalling numpy-1.21.6:\n",
            "      Successfully uninstalled numpy-1.21.6\n",
            "  Attempting uninstall: llvmlite\n",
            "    Found existing installation: llvmlite 0.39.0\n",
            "    Uninstalling llvmlite-0.39.0:\n",
            "      Successfully uninstalled llvmlite-0.39.0\n",
            "  Attempting uninstall: numba\n",
            "    Found existing installation: numba 0.56.0\n",
            "    Uninstalling numba-0.56.0:\n",
            "      Successfully uninstalled numba-0.56.0\n",
            "  Attempting uninstall: torch\n",
            "    Found existing installation: torch 1.12.0+cu113\n",
            "    Uninstalling torch-1.12.0+cu113:\n",
            "      Successfully uninstalled torch-1.12.0+cu113\n",
            "  Attempting uninstall: tqdm\n",
            "    Found existing installation: tqdm 4.64.0\n",
            "    Uninstalling tqdm-4.64.0:\n",
            "      Successfully uninstalled tqdm-4.64.0\n",
            "  Attempting uninstall: torchvision\n",
            "    Found existing installation: torchvision 0.13.0+cu113\n",
            "    Uninstalling torchvision-0.13.0+cu113:\n",
            "      Successfully uninstalled torchvision-0.13.0+cu113\n",
            "  Attempting uninstall: opencv-python\n",
            "    Found existing installation: opencv-python 4.6.0.66\n",
            "    Uninstalling opencv-python-4.6.0.66:\n",
            "      Successfully uninstalled opencv-python-4.6.0.66\n",
            "  Attempting uninstall: librosa\n",
            "    Found existing installation: librosa 0.8.1\n",
            "    Uninstalling librosa-0.8.1:\n",
            "      Successfully uninstalled librosa-0.8.1\n",
            "\u001b[31mERROR: pip's dependency resolver does not currently take into account all the packages that are installed. This behaviour is the source of the following dependency conflicts.\n",
            "kapre 0.3.7 requires tensorflow>=2.0.0, which is not installed.\n",
            "xarray 0.20.2 requires numpy>=1.18, but you have numpy 1.17.1 which is incompatible.\n",
            "xarray-einstats 0.2.2 requires numpy>=1.21, but you have numpy 1.17.1 which is incompatible.\n",
            "torchtext 0.13.0 requires torch==1.12.0, but you have torch 1.1.0 which is incompatible.\n",
            "torchaudio 0.12.0+cu113 requires torch==1.12.0, but you have torch 1.1.0 which is incompatible.\n",
            "tables 3.7.0 requires numpy>=1.19.0, but you have numpy 1.17.1 which is incompatible.\n",
            "pywavelets 1.3.0 requires numpy>=1.17.3, but you have numpy 1.17.1 which is incompatible.\n",
            "panel 0.12.1 requires tqdm>=4.48.0, but you have tqdm 4.45.0 which is incompatible.\n",
            "pandas 1.3.5 requires numpy>=1.17.3; platform_machine != \"aarch64\" and platform_machine != \"arm64\" and python_version < \"3.10\", but you have numpy 1.17.1 which is incompatible.\n",
            "kapre 0.3.7 requires librosa>=0.7.2, but you have librosa 0.7.0 which is incompatible.\n",
            "kapre 0.3.7 requires numpy>=1.18.5, but you have numpy 1.17.1 which is incompatible.\n",
            "jaxlib 0.3.14+cuda11.cudnn805 requires numpy>=1.19, but you have numpy 1.17.1 which is incompatible.\n",
            "jax 0.3.14 requires numpy>=1.19, but you have numpy 1.17.1 which is incompatible.\n",
            "fastai 2.7.7 requires torch<1.13,>=1.7, but you have torch 1.1.0 which is incompatible.\n",
            "fastai 2.7.7 requires torchvision>=0.8.2, but you have torchvision 0.3.0 which is incompatible.\n",
            "cmdstanpy 1.0.4 requires numpy>=1.21, but you have numpy 1.17.1 which is incompatible.\u001b[0m\n",
            "Successfully installed librosa-0.7.0 llvmlite-0.31.0 numba-0.48.0 numpy-1.17.1 opencv-python-4.1.0.25 torch-1.1.0 torchvision-0.3.0 tqdm-4.45.0\n"
          ]
        }
      ]
    },
    {
      "cell_type": "code",
      "source": [
        "!cp \"/content/drive/MyDrive/Wav2Lip/WhatsApp Image 2022-06-25 at 3.40.59 AM.jpeg\" \"/content/drive/MyDrive/Wav2Lip/gettyimages-175315053-640_adpp.mp4\" sample_data/\n",
        "!ls sample_data/"
      ],
      "metadata": {
        "colab": {
          "base_uri": "https://localhost:8080/"
        },
        "id": "JaL-xQlwXlK_",
        "outputId": "0fa06de2-a6ad-46b6-dcde-869305260120"
      },
      "execution_count": null,
      "outputs": [
        {
          "output_type": "stream",
          "name": "stdout",
          "text": [
            " 1030489694-preview.mp4         gettyimages-175315053-640_adpp.mp4\n",
            " Amrit_Mahotsav_Intro_mp4       istockphoto-1332969352-640_adpp_is.mp4\n",
            " Amrit_Mahotsav_Intro_mp4.mp4   mnist_test.csv\n",
            " anscombe.json\t\t        mnist_train_small.csv\n",
            " california_housing_test.csv    README.md\n",
            " california_housing_train.csv  'WhatsApp Image 2022-06-25 at 3.40.59 AM.jpeg'\n",
            " DSC_1171.JPG\n"
          ]
        }
      ]
    },
    {
      "cell_type": "markdown",
      "source": [
        "# Here we need to select any one according to the video and audio"
      ],
      "metadata": {
        "id": "TwA_gzYk4_so"
      }
    },
    {
      "cell_type": "code",
      "source": [
        "!cd Wav2Lip && python inference.py --checkpoint_path checkpoints/wav2lip_gan.pth --face \"../sample_data/WhatsApp Image 2022-06-25 at 3.40.59 AM.jpeg\" --audio \"../sample_data/gettyimages-175315053-640_adpp.mp4\""
      ],
      "metadata": {
        "colab": {
          "base_uri": "https://localhost:8080/"
        },
        "id": "nwHUKG09jR-Q",
        "outputId": "69279e06-9787-4a48-8368-93a63eb59ed9"
      },
      "execution_count": null,
      "outputs": [
        {
          "output_type": "stream",
          "name": "stdout",
          "text": [
            "Using cuda for inference.\n",
            "Reading video frames...\n",
            "Number of frames available for inference: 1\n",
            "Extracting raw audio...\n",
            "ffmpeg version 3.4.11-0ubuntu0.1 Copyright (c) 2000-2022 the FFmpeg developers\n",
            "  built with gcc 7 (Ubuntu 7.5.0-3ubuntu1~18.04)\n",
            "  configuration: --prefix=/usr --extra-version=0ubuntu0.1 --toolchain=hardened --libdir=/usr/lib/x86_64-linux-gnu --incdir=/usr/include/x86_64-linux-gnu --enable-gpl --disable-stripping --enable-avresample --enable-avisynth --enable-gnutls --enable-ladspa --enable-libass --enable-libbluray --enable-libbs2b --enable-libcaca --enable-libcdio --enable-libflite --enable-libfontconfig --enable-libfreetype --enable-libfribidi --enable-libgme --enable-libgsm --enable-libmp3lame --enable-libmysofa --enable-libopenjpeg --enable-libopenmpt --enable-libopus --enable-libpulse --enable-librubberband --enable-librsvg --enable-libshine --enable-libsnappy --enable-libsoxr --enable-libspeex --enable-libssh --enable-libtheora --enable-libtwolame --enable-libvorbis --enable-libvpx --enable-libwavpack --enable-libwebp --enable-libx265 --enable-libxml2 --enable-libxvid --enable-libzmq --enable-libzvbi --enable-omx --enable-openal --enable-opengl --enable-sdl2 --enable-libdc1394 --enable-libdrm --enable-libiec61883 --enable-chromaprint --enable-frei0r --enable-libopencv --enable-libx264 --enable-shared\n",
            "  libavutil      55. 78.100 / 55. 78.100\n",
            "  libavcodec     57.107.100 / 57.107.100\n",
            "  libavformat    57. 83.100 / 57. 83.100\n",
            "  libavdevice    57. 10.100 / 57. 10.100\n",
            "  libavfilter     6.107.100 /  6.107.100\n",
            "  libavresample   3.  7.  0 /  3.  7.  0\n",
            "  libswscale      4.  8.100 /  4.  8.100\n",
            "  libswresample   2.  9.100 /  2.  9.100\n",
            "  libpostproc    54.  7.100 / 54.  7.100\n",
            "Input #0, mov,mp4,m4a,3gp,3g2,mj2, from '../sample_data/gettyimages-175315053-640_adpp.mp4':\n",
            "  Metadata:\n",
            "    major_brand     : isom\n",
            "    minor_version   : 512\n",
            "    compatible_brands: isomiso2avc1mp41\n",
            "    title           : 175315053\n",
            "    artist          : Getty Images\n",
            "    encoder         : Lavf54.63.104\n",
            "    comment         : These motion images are protected by copyright, please contact Getty Images to obtain license for usage.  Please be advised that advertising and promotional uses of these motion images may require additional property or talent clearances.  Please contact \n",
            "    copyright       : These motion images are protected by copyright, please contact Getty Images to obtain license for usage.\n",
            "    description     : http://www.gettyimages.com\n",
            "  Duration: 00:01:00.20, start: 0.000000, bitrate: 531 kb/s\n",
            "    Stream #0:0(und): Video: h264 (Main) (avc1 / 0x31637661), yuvj420p(pc), 640x360 [SAR 1:1 DAR 16:9], 398 kb/s, 25 fps, 25 tbr, 12800 tbn, 50 tbc (default)\n",
            "    Metadata:\n",
            "      handler_name    : VideoHandler\n",
            "    Stream #0:1(und): Audio: aac (LC) (mp4a / 0x6134706D), 48000 Hz, stereo, fltp, 128 kb/s (default)\n",
            "    Metadata:\n",
            "      handler_name    : SoundHandler\n",
            "Stream mapping:\n",
            "  Stream #0:1 -> #0:0 (aac (native) -> pcm_s16le (native))\n",
            "Press [q] to stop, [?] for help\n",
            "Output #0, wav, to 'temp/temp.wav':\n",
            "  Metadata:\n",
            "    major_brand     : isom\n",
            "    minor_version   : 512\n",
            "    compatible_brands: isomiso2avc1mp41\n",
            "    INAM            : 175315053\n",
            "    IART            : Getty Images\n",
            "    description     : http://www.gettyimages.com\n",
            "    ICMT            : These motion images are protected by copyright, please contact Getty Images to obtain license for usage.  Please be advised that advertising and promotional uses of these motion images may require additional property or talent clearances.  Please contact \n",
            "    ICOP            : These motion images are protected by copyright, please contact Getty Images to obtain license for usage.\n",
            "    ISFT            : Lavf57.83.100\n",
            "    Stream #0:0(und): Audio: pcm_s16le ([1][0][0][0] / 0x0001), 48000 Hz, stereo, s16, 1536 kb/s (default)\n",
            "    Metadata:\n",
            "      handler_name    : SoundHandler\n",
            "      encoder         : Lavc57.107.100 pcm_s16le\n",
            "size=   11281kB time=00:01:00.16 bitrate=1536.1kbits/s speed= 835x    \n",
            "video:0kB audio:11280kB subtitle:0kB other streams:0kB global headers:0kB muxing overhead: 0.004883%\n",
            "(80, 4813)\n",
            "Length of mel chunks: 1501\n",
            "  0% 0/12 [00:00<?, ?it/s]\n",
            "  0% 0/1 [00:00<?, ?it/s]\u001b[ATHCudaCheck FAIL file=/pytorch/aten/src/THC/THCGeneral.cpp line=383 error=11 : invalid argument\n",
            "  0% 0/1 [00:00<?, ?it/s]\n",
            "Recovering from OOM error; New batch size: 8\n",
            "\n",
            "  0% 0/1 [00:00<?, ?it/s]\u001b[A\n",
            "100% 1/1 [00:03<00:00,  3.03s/it]\n",
            "Load checkpoint from: checkpoints/wav2lip_gan.pth\n",
            "Model loaded\n",
            "100% 12/12 [00:22<00:00,  1.89s/it]\n",
            "ffmpeg version 3.4.11-0ubuntu0.1 Copyright (c) 2000-2022 the FFmpeg developers\n",
            "  built with gcc 7 (Ubuntu 7.5.0-3ubuntu1~18.04)\n",
            "  configuration: --prefix=/usr --extra-version=0ubuntu0.1 --toolchain=hardened --libdir=/usr/lib/x86_64-linux-gnu --incdir=/usr/include/x86_64-linux-gnu --enable-gpl --disable-stripping --enable-avresample --enable-avisynth --enable-gnutls --enable-ladspa --enable-libass --enable-libbluray --enable-libbs2b --enable-libcaca --enable-libcdio --enable-libflite --enable-libfontconfig --enable-libfreetype --enable-libfribidi --enable-libgme --enable-libgsm --enable-libmp3lame --enable-libmysofa --enable-libopenjpeg --enable-libopenmpt --enable-libopus --enable-libpulse --enable-librubberband --enable-librsvg --enable-libshine --enable-libsnappy --enable-libsoxr --enable-libspeex --enable-libssh --enable-libtheora --enable-libtwolame --enable-libvorbis --enable-libvpx --enable-libwavpack --enable-libwebp --enable-libx265 --enable-libxml2 --enable-libxvid --enable-libzmq --enable-libzvbi --enable-omx --enable-openal --enable-opengl --enable-sdl2 --enable-libdc1394 --enable-libdrm --enable-libiec61883 --enable-chromaprint --enable-frei0r --enable-libopencv --enable-libx264 --enable-shared\n",
            "  libavutil      55. 78.100 / 55. 78.100\n",
            "  libavcodec     57.107.100 / 57.107.100\n",
            "  libavformat    57. 83.100 / 57. 83.100\n",
            "  libavdevice    57. 10.100 / 57. 10.100\n",
            "  libavfilter     6.107.100 /  6.107.100\n",
            "  libavresample   3.  7.  0 /  3.  7.  0\n",
            "  libswscale      4.  8.100 /  4.  8.100\n",
            "  libswresample   2.  9.100 /  2.  9.100\n",
            "  libpostproc    54.  7.100 / 54.  7.100\n",
            "\u001b[0;33mGuessed Channel Layout for Input Stream #0.0 : stereo\n",
            "\u001b[0mInput #0, wav, from 'temp/temp.wav':\n",
            "  Metadata:\n",
            "    artist          : Getty Images\n",
            "    comment         : These motion images are protected by copyright, please contact Getty Images to obtain license for usage.  Please be advised that advertising and promotional uses of these motion images may require additional property or talent clearances.  Please contact \n",
            "    copyright       : These motion images are protected by copyright, please contact Getty Images to obtain license for usage.\n",
            "    title           : 175315053\n",
            "    encoder         : Lavf57.83.100\n",
            "  Duration: 00:01:00.16, bitrate: 1536 kb/s\n",
            "    Stream #0:0: Audio: pcm_s16le ([1][0][0][0] / 0x0001), 48000 Hz, stereo, s16, 1536 kb/s\n",
            "Input #1, avi, from 'temp/result.avi':\n",
            "  Metadata:\n",
            "    encoder         : Lavf58.26.101\n",
            "  Duration: 00:01:00.04, start: 0.000000, bitrate: 1266 kb/s\n",
            "    Stream #1:0: Video: mpeg4 (Simple Profile) (DIVX / 0x58564944), yuv420p, 1280x720 [SAR 1:1 DAR 16:9], 1261 kb/s, 25 fps, 25 tbr, 25 tbn, 25 tbc\n",
            "Stream mapping:\n",
            "  Stream #1:0 -> #0:0 (mpeg4 (native) -> h264 (libx264))\n",
            "  Stream #0:0 -> #0:1 (pcm_s16le (native) -> aac (native))\n",
            "Press [q] to stop, [?] for help\n",
            "\u001b[1;36m[libx264 @ 0x5586ab7aed00] \u001b[0m\u001b[0;33m-qscale is ignored, -crf is recommended.\n",
            "\u001b[0m\u001b[1;36m[libx264 @ 0x5586ab7aed00] \u001b[0musing SAR=1/1\n",
            "\u001b[1;36m[libx264 @ 0x5586ab7aed00] \u001b[0musing cpu capabilities: MMX2 SSE2Fast SSSE3 SSE4.2 AVX FMA3 BMI2 AVX2\n",
            "\u001b[1;36m[libx264 @ 0x5586ab7aed00] \u001b[0mprofile High, level 3.1\n",
            "\u001b[1;36m[libx264 @ 0x5586ab7aed00] \u001b[0m264 - core 152 r2854 e9a5903 - H.264/MPEG-4 AVC codec - Copyleft 2003-2017 - http://www.videolan.org/x264.html - options: cabac=1 ref=3 deblock=1:0:0 analyse=0x3:0x113 me=hex subme=7 psy=1 psy_rd=1.00:0.00 mixed_ref=1 me_range=16 chroma_me=1 trellis=1 8x8dct=1 cqm=0 deadzone=21,11 fast_pskip=1 chroma_qp_offset=-2 threads=3 lookahead_threads=1 sliced_threads=0 nr=0 decimate=1 interlaced=0 bluray_compat=0 constrained_intra=0 bframes=3 b_pyramid=2 b_adapt=1 b_bias=0 direct=1 weightb=1 open_gop=0 weightp=2 keyint=250 keyint_min=25 scenecut=40 intra_refresh=0 rc_lookahead=40 rc=crf mbtree=1 crf=23.0 qcomp=0.60 qpmin=0 qpmax=69 qpstep=4 ip_ratio=1.40 aq=1:1.00\n",
            "Output #0, mp4, to 'results/result_voice.mp4':\n",
            "  Metadata:\n",
            "    artist          : Getty Images\n",
            "    comment         : These motion images are protected by copyright, please contact Getty Images to obtain license for usage.  Please be advised that advertising and promotional uses of these motion images may require additional property or talent clearances.  Please contact \n",
            "    copyright       : These motion images are protected by copyright, please contact Getty Images to obtain license for usage.\n",
            "    title           : 175315053\n",
            "    encoder         : Lavf57.83.100\n",
            "    Stream #0:0: Video: h264 (libx264) (avc1 / 0x31637661), yuv420p(progressive), 1280x720 [SAR 1:1 DAR 16:9], q=-1--1, 25 fps, 12800 tbn, 25 tbc\n",
            "    Metadata:\n",
            "      encoder         : Lavc57.107.100 libx264\n",
            "    Side data:\n",
            "      cpb: bitrate max/min/avg: 0/0/0 buffer size: 0 vbv_delay: -1\n",
            "    Stream #0:1: Audio: aac (LC) (mp4a / 0x6134706D), 48000 Hz, stereo, fltp, 128 kb/s\n",
            "    Metadata:\n",
            "      encoder         : Lavc57.107.100 aac\n",
            "frame= 1501 fps= 66 q=-1.0 Lsize=    1977kB time=00:01:00.16 bitrate= 269.2kbits/s speed=2.66x    \n",
            "video:995kB audio:935kB subtitle:0kB other streams:0kB global headers:0kB muxing overhead: 2.415350%\n",
            "\u001b[1;36m[libx264 @ 0x5586ab7aed00] \u001b[0mframe I:7     Avg QP:16.38  size: 78169\n",
            "\u001b[1;36m[libx264 @ 0x5586ab7aed00] \u001b[0mframe P:382   Avg QP:17.67  size:   798\n",
            "\u001b[1;36m[libx264 @ 0x5586ab7aed00] \u001b[0mframe B:1112  Avg QP:28.48  size:   149\n",
            "\u001b[1;36m[libx264 @ 0x5586ab7aed00] \u001b[0mconsecutive B-frames:  0.7%  1.3%  0.4% 97.5%\n",
            "\u001b[1;36m[libx264 @ 0x5586ab7aed00] \u001b[0mmb I  I16..4:  7.4% 89.9%  2.7%\n",
            "\u001b[1;36m[libx264 @ 0x5586ab7aed00] \u001b[0mmb P  I16..4:  0.0%  0.2%  0.0%  P16..4:  3.1%  0.8%  0.5%  0.0%  0.0%    skip:95.4%\n",
            "\u001b[1;36m[libx264 @ 0x5586ab7aed00] \u001b[0mmb B  I16..4:  0.0%  0.0%  0.0%  B16..8:  1.7%  0.1%  0.0%  direct: 0.0%  skip:98.2%  L0:47.4% L1:50.4% BI: 2.2%\n",
            "\u001b[1;36m[libx264 @ 0x5586ab7aed00] \u001b[0m8x8 transform intra:90.2% inter:90.1%\n",
            "\u001b[1;36m[libx264 @ 0x5586ab7aed00] \u001b[0mcoded y,uvDC,uvAC intra: 84.1% 80.9% 46.6% inter: 0.4% 0.7% 0.0%\n",
            "\u001b[1;36m[libx264 @ 0x5586ab7aed00] \u001b[0mi16 v,h,dc,p: 34% 30% 17% 18%\n",
            "\u001b[1;36m[libx264 @ 0x5586ab7aed00] \u001b[0mi8 v,h,dc,ddl,ddr,vr,hd,vl,hu: 24% 25% 22%  4%  4%  7%  4%  5%  5%\n",
            "\u001b[1;36m[libx264 @ 0x5586ab7aed00] \u001b[0mi4 v,h,dc,ddl,ddr,vr,hd,vl,hu: 41% 32%  9%  2%  3%  6%  3%  2%  1%\n",
            "\u001b[1;36m[libx264 @ 0x5586ab7aed00] \u001b[0mi8c dc,h,v,p: 35% 26% 28% 11%\n",
            "\u001b[1;36m[libx264 @ 0x5586ab7aed00] \u001b[0mWeighted P-Frames: Y:0.0% UV:0.0%\n",
            "\u001b[1;36m[libx264 @ 0x5586ab7aed00] \u001b[0mref P L0: 60.8% 11.6% 17.3% 10.3%\n",
            "\u001b[1;36m[libx264 @ 0x5586ab7aed00] \u001b[0mref B L0: 78.4% 15.2%  6.4%\n",
            "\u001b[1;36m[libx264 @ 0x5586ab7aed00] \u001b[0mref B L1: 92.2%  7.8%\n",
            "\u001b[1;36m[libx264 @ 0x5586ab7aed00] \u001b[0mkb/s:135.67\n",
            "\u001b[1;36m[aac @ 0x5586ab8a6000] \u001b[0mQavg: 633.203\n"
          ]
        }
      ]
    },
    {
      "cell_type": "markdown",
      "source": [],
      "metadata": {
        "id": "cuQbVd0eCNOM"
      }
    },
    {
      "cell_type": "code",
      "source": [
        "!cd Wav2Lip && python inference.py --checkpoint_path checkpoints/wav2lip_gan.pth --face \"../sample_data/DSC_1171.JPG\" --audio \"../sample_data/gettyimages-175315053-640_adpp.mp4\" --pads 0 20 0 0"
      ],
      "metadata": {
        "colab": {
          "base_uri": "https://localhost:8080/"
        },
        "id": "hKFUdtyAjwSE",
        "outputId": "0e15932a-65ed-4c71-c128-121adeb5e3e9"
      },
      "execution_count": null,
      "outputs": [
        {
          "output_type": "stream",
          "name": "stdout",
          "text": [
            "Using cuda for inference.\n",
            "Reading video frames...\n",
            "Number of frames available for inference: 1\n",
            "Extracting raw audio...\n",
            "ffmpeg version 3.4.11-0ubuntu0.1 Copyright (c) 2000-2022 the FFmpeg developers\n",
            "  built with gcc 7 (Ubuntu 7.5.0-3ubuntu1~18.04)\n",
            "  configuration: --prefix=/usr --extra-version=0ubuntu0.1 --toolchain=hardened --libdir=/usr/lib/x86_64-linux-gnu --incdir=/usr/include/x86_64-linux-gnu --enable-gpl --disable-stripping --enable-avresample --enable-avisynth --enable-gnutls --enable-ladspa --enable-libass --enable-libbluray --enable-libbs2b --enable-libcaca --enable-libcdio --enable-libflite --enable-libfontconfig --enable-libfreetype --enable-libfribidi --enable-libgme --enable-libgsm --enable-libmp3lame --enable-libmysofa --enable-libopenjpeg --enable-libopenmpt --enable-libopus --enable-libpulse --enable-librubberband --enable-librsvg --enable-libshine --enable-libsnappy --enable-libsoxr --enable-libspeex --enable-libssh --enable-libtheora --enable-libtwolame --enable-libvorbis --enable-libvpx --enable-libwavpack --enable-libwebp --enable-libx265 --enable-libxml2 --enable-libxvid --enable-libzmq --enable-libzvbi --enable-omx --enable-openal --enable-opengl --enable-sdl2 --enable-libdc1394 --enable-libdrm --enable-libiec61883 --enable-chromaprint --enable-frei0r --enable-libopencv --enable-libx264 --enable-shared\n",
            "  libavutil      55. 78.100 / 55. 78.100\n",
            "  libavcodec     57.107.100 / 57.107.100\n",
            "  libavformat    57. 83.100 / 57. 83.100\n",
            "  libavdevice    57. 10.100 / 57. 10.100\n",
            "  libavfilter     6.107.100 /  6.107.100\n",
            "  libavresample   3.  7.  0 /  3.  7.  0\n",
            "  libswscale      4.  8.100 /  4.  8.100\n",
            "  libswresample   2.  9.100 /  2.  9.100\n",
            "  libpostproc    54.  7.100 / 54.  7.100\n",
            "Input #0, mov,mp4,m4a,3gp,3g2,mj2, from '../sample_data/gettyimages-175315053-640_adpp.mp4':\n",
            "  Metadata:\n",
            "    major_brand     : isom\n",
            "    minor_version   : 512\n",
            "    compatible_brands: isomiso2avc1mp41\n",
            "    title           : 175315053\n",
            "    artist          : Getty Images\n",
            "    encoder         : Lavf54.63.104\n",
            "    comment         : These motion images are protected by copyright, please contact Getty Images to obtain license for usage.  Please be advised that advertising and promotional uses of these motion images may require additional property or talent clearances.  Please contact \n",
            "    copyright       : These motion images are protected by copyright, please contact Getty Images to obtain license for usage.\n",
            "    description     : http://www.gettyimages.com\n",
            "  Duration: 00:01:00.20, start: 0.000000, bitrate: 531 kb/s\n",
            "    Stream #0:0(und): Video: h264 (Main) (avc1 / 0x31637661), yuvj420p(pc), 640x360 [SAR 1:1 DAR 16:9], 398 kb/s, 25 fps, 25 tbr, 12800 tbn, 50 tbc (default)\n",
            "    Metadata:\n",
            "      handler_name    : VideoHandler\n",
            "    Stream #0:1(und): Audio: aac (LC) (mp4a / 0x6134706D), 48000 Hz, stereo, fltp, 128 kb/s (default)\n",
            "    Metadata:\n",
            "      handler_name    : SoundHandler\n",
            "Stream mapping:\n",
            "  Stream #0:1 -> #0:0 (aac (native) -> pcm_s16le (native))\n",
            "Press [q] to stop, [?] for help\n",
            "Output #0, wav, to 'temp/temp.wav':\n",
            "  Metadata:\n",
            "    major_brand     : isom\n",
            "    minor_version   : 512\n",
            "    compatible_brands: isomiso2avc1mp41\n",
            "    INAM            : 175315053\n",
            "    IART            : Getty Images\n",
            "    description     : http://www.gettyimages.com\n",
            "    ICMT            : These motion images are protected by copyright, please contact Getty Images to obtain license for usage.  Please be advised that advertising and promotional uses of these motion images may require additional property or talent clearances.  Please contact \n",
            "    ICOP            : These motion images are protected by copyright, please contact Getty Images to obtain license for usage.\n",
            "    ISFT            : Lavf57.83.100\n",
            "    Stream #0:0(und): Audio: pcm_s16le ([1][0][0][0] / 0x0001), 48000 Hz, stereo, s16, 1536 kb/s (default)\n",
            "    Metadata:\n",
            "      handler_name    : SoundHandler\n",
            "      encoder         : Lavc57.107.100 pcm_s16le\n",
            "size=   11281kB time=00:01:00.16 bitrate=1536.1kbits/s speed= 773x    \n",
            "video:0kB audio:11280kB subtitle:0kB other streams:0kB global headers:0kB muxing overhead: 0.004883%\n",
            "(80, 4813)\n",
            "Length of mel chunks: 1501\n",
            "  0% 0/12 [00:00<?, ?it/s]\n",
            "  0% 0/1 [00:00<?, ?it/s]\u001b[ATHCudaCheck FAIL file=/pytorch/aten/src/THC/THCGeneral.cpp line=383 error=11 : invalid argument\n",
            "  0% 0/1 [00:00<?, ?it/s]\n",
            "Recovering from OOM error; New batch size: 8\n",
            "\n",
            "  0% 0/1 [00:08<?, ?it/s]\n",
            "Recovering from OOM error; New batch size: 4\n",
            "\n",
            "  0% 0/1 [00:00<?, ?it/s]\n",
            "Recovering from OOM error; New batch size: 2\n",
            "\n",
            "  0% 0/1 [00:00<?, ?it/s]\n",
            "Recovering from OOM error; New batch size: 1\n",
            "\n",
            "  0% 0/1 [00:00<?, ?it/s]\n",
            "  0% 0/12 [00:14<?, ?it/s]\n",
            "Traceback (most recent call last):\n",
            "  File \"inference.py\", line 78, in face_detect\n",
            "    predictions.extend(detector.get_detections_for_batch(np.array(images[i:i + batch_size])))\n",
            "  File \"/content/Wav2Lip/face_detection/api.py\", line 66, in get_detections_for_batch\n",
            "    detected_faces = self.face_detector.detect_from_batch(images.copy())\n",
            "  File \"/content/Wav2Lip/face_detection/detection/sfd/sfd_detector.py\", line 42, in detect_from_batch\n",
            "    bboxlists = batch_detect(self.face_detector, images, device=self.device)\n",
            "  File \"/content/Wav2Lip/face_detection/detection/sfd/detect.py\", line 68, in batch_detect\n",
            "    olist = net(imgs)\n",
            "  File \"/usr/local/lib/python3.7/dist-packages/torch/nn/modules/module.py\", line 493, in __call__\n",
            "    result = self.forward(*input, **kwargs)\n",
            "  File \"/content/Wav2Lip/face_detection/detection/sfd/net_s3fd.py\", line 72, in forward\n",
            "    h = F.relu(self.conv1_2(h))\n",
            "  File \"/usr/local/lib/python3.7/dist-packages/torch/nn/functional.py\", line 943, in relu\n",
            "    result = torch.relu(input)\n",
            "RuntimeError: CUDA out of memory. Tried to allocate 5.76 GiB (GPU 0; 14.76 GiB total capacity; 11.88 GiB already allocated; 2.09 GiB free; 19.08 MiB cached)\n",
            "\n",
            "During handling of the above exception, another exception occurred:\n",
            "\n",
            "Traceback (most recent call last):\n",
            "  File \"inference.py\", line 280, in <module>\n",
            "    main()\n",
            "  File \"inference.py\", line 250, in main\n",
            "    total=int(np.ceil(float(len(mel_chunks))/batch_size)))):\n",
            "  File \"/usr/local/lib/python3.7/dist-packages/tqdm/std.py\", line 1127, in __iter__\n",
            "    for obj in iterable:\n",
            "  File \"inference.py\", line 113, in datagen\n",
            "    face_det_results = face_detect(frames) # BGR2RGB for CNN face detection\n",
            "  File \"inference.py\", line 81, in face_detect\n",
            "    raise RuntimeError('Image too big to run face detection on GPU. Please use the --resize_factor argument')\n",
            "RuntimeError: Image too big to run face detection on GPU. Please use the --resize_factor argument\n"
          ]
        }
      ]
    },
    {
      "cell_type": "code",
      "source": [
        "!cd Wav2Lip && python inference.py --checkpoint_path checkpoints/wav2lip_gan.pth --face \"../sample_data/DSC_1171.JPG\" --audio \"../sample_data/gettyimages-175315053-640_adpp.mp4\" --resize_factor 2"
      ],
      "metadata": {
        "colab": {
          "base_uri": "https://localhost:8080/"
        },
        "id": "UBRGoBEznSW8",
        "outputId": "8403d436-b086-4afc-9cee-fcf7a1052e2c"
      },
      "execution_count": null,
      "outputs": [
        {
          "output_type": "stream",
          "name": "stdout",
          "text": [
            "Using cuda for inference.\n",
            "Reading video frames...\n",
            "Number of frames available for inference: 1\n",
            "Extracting raw audio...\n",
            "ffmpeg version 3.4.11-0ubuntu0.1 Copyright (c) 2000-2022 the FFmpeg developers\n",
            "  built with gcc 7 (Ubuntu 7.5.0-3ubuntu1~18.04)\n",
            "  configuration: --prefix=/usr --extra-version=0ubuntu0.1 --toolchain=hardened --libdir=/usr/lib/x86_64-linux-gnu --incdir=/usr/include/x86_64-linux-gnu --enable-gpl --disable-stripping --enable-avresample --enable-avisynth --enable-gnutls --enable-ladspa --enable-libass --enable-libbluray --enable-libbs2b --enable-libcaca --enable-libcdio --enable-libflite --enable-libfontconfig --enable-libfreetype --enable-libfribidi --enable-libgme --enable-libgsm --enable-libmp3lame --enable-libmysofa --enable-libopenjpeg --enable-libopenmpt --enable-libopus --enable-libpulse --enable-librubberband --enable-librsvg --enable-libshine --enable-libsnappy --enable-libsoxr --enable-libspeex --enable-libssh --enable-libtheora --enable-libtwolame --enable-libvorbis --enable-libvpx --enable-libwavpack --enable-libwebp --enable-libx265 --enable-libxml2 --enable-libxvid --enable-libzmq --enable-libzvbi --enable-omx --enable-openal --enable-opengl --enable-sdl2 --enable-libdc1394 --enable-libdrm --enable-libiec61883 --enable-chromaprint --enable-frei0r --enable-libopencv --enable-libx264 --enable-shared\n",
            "  libavutil      55. 78.100 / 55. 78.100\n",
            "  libavcodec     57.107.100 / 57.107.100\n",
            "  libavformat    57. 83.100 / 57. 83.100\n",
            "  libavdevice    57. 10.100 / 57. 10.100\n",
            "  libavfilter     6.107.100 /  6.107.100\n",
            "  libavresample   3.  7.  0 /  3.  7.  0\n",
            "  libswscale      4.  8.100 /  4.  8.100\n",
            "  libswresample   2.  9.100 /  2.  9.100\n",
            "  libpostproc    54.  7.100 / 54.  7.100\n",
            "Input #0, mov,mp4,m4a,3gp,3g2,mj2, from '../sample_data/gettyimages-175315053-640_adpp.mp4':\n",
            "  Metadata:\n",
            "    major_brand     : isom\n",
            "    minor_version   : 512\n",
            "    compatible_brands: isomiso2avc1mp41\n",
            "    title           : 175315053\n",
            "    artist          : Getty Images\n",
            "    encoder         : Lavf54.63.104\n",
            "    comment         : These motion images are protected by copyright, please contact Getty Images to obtain license for usage.  Please be advised that advertising and promotional uses of these motion images may require additional property or talent clearances.  Please contact \n",
            "    copyright       : These motion images are protected by copyright, please contact Getty Images to obtain license for usage.\n",
            "    description     : http://www.gettyimages.com\n",
            "  Duration: 00:01:00.20, start: 0.000000, bitrate: 531 kb/s\n",
            "    Stream #0:0(und): Video: h264 (Main) (avc1 / 0x31637661), yuvj420p(pc), 640x360 [SAR 1:1 DAR 16:9], 398 kb/s, 25 fps, 25 tbr, 12800 tbn, 50 tbc (default)\n",
            "    Metadata:\n",
            "      handler_name    : VideoHandler\n",
            "    Stream #0:1(und): Audio: aac (LC) (mp4a / 0x6134706D), 48000 Hz, stereo, fltp, 128 kb/s (default)\n",
            "    Metadata:\n",
            "      handler_name    : SoundHandler\n",
            "Stream mapping:\n",
            "  Stream #0:1 -> #0:0 (aac (native) -> pcm_s16le (native))\n",
            "Press [q] to stop, [?] for help\n",
            "Output #0, wav, to 'temp/temp.wav':\n",
            "  Metadata:\n",
            "    major_brand     : isom\n",
            "    minor_version   : 512\n",
            "    compatible_brands: isomiso2avc1mp41\n",
            "    INAM            : 175315053\n",
            "    IART            : Getty Images\n",
            "    description     : http://www.gettyimages.com\n",
            "    ICMT            : These motion images are protected by copyright, please contact Getty Images to obtain license for usage.  Please be advised that advertising and promotional uses of these motion images may require additional property or talent clearances.  Please contact \n",
            "    ICOP            : These motion images are protected by copyright, please contact Getty Images to obtain license for usage.\n",
            "    ISFT            : Lavf57.83.100\n",
            "    Stream #0:0(und): Audio: pcm_s16le ([1][0][0][0] / 0x0001), 48000 Hz, stereo, s16, 1536 kb/s (default)\n",
            "    Metadata:\n",
            "      handler_name    : SoundHandler\n",
            "      encoder         : Lavc57.107.100 pcm_s16le\n",
            "size=   11281kB time=00:01:00.16 bitrate=1536.1kbits/s speed= 812x    \n",
            "video:0kB audio:11280kB subtitle:0kB other streams:0kB global headers:0kB muxing overhead: 0.004883%\n",
            "(80, 4813)\n",
            "Length of mel chunks: 1501\n",
            "  0% 0/12 [00:00<?, ?it/s]\n",
            "  0% 0/1 [00:00<?, ?it/s]\u001b[ATHCudaCheck FAIL file=/pytorch/aten/src/THC/THCGeneral.cpp line=383 error=11 : invalid argument\n",
            "  0% 0/1 [00:00<?, ?it/s]\n",
            "Recovering from OOM error; New batch size: 8\n",
            "\n",
            "  0% 0/1 [00:00<?, ?it/s]\u001b[A\n",
            "100% 1/1 [00:12<00:00, 12.24s/it]\n",
            "Load checkpoint from: checkpoints/wav2lip_gan.pth\n",
            "Model loaded\n",
            "100% 12/12 [01:20<00:00,  6.73s/it]\n",
            "ffmpeg version 3.4.11-0ubuntu0.1 Copyright (c) 2000-2022 the FFmpeg developers\n",
            "  built with gcc 7 (Ubuntu 7.5.0-3ubuntu1~18.04)\n",
            "  configuration: --prefix=/usr --extra-version=0ubuntu0.1 --toolchain=hardened --libdir=/usr/lib/x86_64-linux-gnu --incdir=/usr/include/x86_64-linux-gnu --enable-gpl --disable-stripping --enable-avresample --enable-avisynth --enable-gnutls --enable-ladspa --enable-libass --enable-libbluray --enable-libbs2b --enable-libcaca --enable-libcdio --enable-libflite --enable-libfontconfig --enable-libfreetype --enable-libfribidi --enable-libgme --enable-libgsm --enable-libmp3lame --enable-libmysofa --enable-libopenjpeg --enable-libopenmpt --enable-libopus --enable-libpulse --enable-librubberband --enable-librsvg --enable-libshine --enable-libsnappy --enable-libsoxr --enable-libspeex --enable-libssh --enable-libtheora --enable-libtwolame --enable-libvorbis --enable-libvpx --enable-libwavpack --enable-libwebp --enable-libx265 --enable-libxml2 --enable-libxvid --enable-libzmq --enable-libzvbi --enable-omx --enable-openal --enable-opengl --enable-sdl2 --enable-libdc1394 --enable-libdrm --enable-libiec61883 --enable-chromaprint --enable-frei0r --enable-libopencv --enable-libx264 --enable-shared\n",
            "  libavutil      55. 78.100 / 55. 78.100\n",
            "  libavcodec     57.107.100 / 57.107.100\n",
            "  libavformat    57. 83.100 / 57. 83.100\n",
            "  libavdevice    57. 10.100 / 57. 10.100\n",
            "  libavfilter     6.107.100 /  6.107.100\n",
            "  libavresample   3.  7.  0 /  3.  7.  0\n",
            "  libswscale      4.  8.100 /  4.  8.100\n",
            "  libswresample   2.  9.100 /  2.  9.100\n",
            "  libpostproc    54.  7.100 / 54.  7.100\n",
            "\u001b[0;33mGuessed Channel Layout for Input Stream #0.0 : stereo\n",
            "\u001b[0mInput #0, wav, from 'temp/temp.wav':\n",
            "  Metadata:\n",
            "    artist          : Getty Images\n",
            "    comment         : These motion images are protected by copyright, please contact Getty Images to obtain license for usage.  Please be advised that advertising and promotional uses of these motion images may require additional property or talent clearances.  Please contact \n",
            "    copyright       : These motion images are protected by copyright, please contact Getty Images to obtain license for usage.\n",
            "    title           : 175315053\n",
            "    encoder         : Lavf57.83.100\n",
            "  Duration: 00:01:00.16, bitrate: 1536 kb/s\n",
            "    Stream #0:0: Audio: pcm_s16le ([1][0][0][0] / 0x0001), 48000 Hz, stereo, s16, 1536 kb/s\n",
            "Input #1, avi, from 'temp/result.avi':\n",
            "  Metadata:\n",
            "    encoder         : Lavf58.26.101\n",
            "  Duration: 00:01:00.04, start: 0.000000, bitrate: 9516 kb/s\n",
            "    Stream #1:0: Video: mpeg4 (Simple Profile) (DIVX / 0x58564944), yuv420p, 3008x2008 [SAR 1:1 DAR 376:251], 9514 kb/s, 25 fps, 25 tbr, 25 tbn, 25 tbc\n",
            "Stream mapping:\n",
            "  Stream #1:0 -> #0:0 (mpeg4 (native) -> h264 (libx264))\n",
            "  Stream #0:0 -> #0:1 (pcm_s16le (native) -> aac (native))\n",
            "Press [q] to stop, [?] for help\n",
            "\u001b[1;36m[libx264 @ 0x55f8db422d00] \u001b[0m\u001b[0;33m-qscale is ignored, -crf is recommended.\n",
            "\u001b[0m\u001b[1;36m[libx264 @ 0x55f8db422d00] \u001b[0musing SAR=1/1\n",
            "\u001b[1;36m[libx264 @ 0x55f8db422d00] \u001b[0musing cpu capabilities: MMX2 SSE2Fast SSSE3 SSE4.2 AVX FMA3 BMI2 AVX2\n",
            "\u001b[1;36m[libx264 @ 0x55f8db422d00] \u001b[0mprofile High, level 5.1\n",
            "\u001b[1;36m[libx264 @ 0x55f8db422d00] \u001b[0m264 - core 152 r2854 e9a5903 - H.264/MPEG-4 AVC codec - Copyleft 2003-2017 - http://www.videolan.org/x264.html - options: cabac=1 ref=3 deblock=1:0:0 analyse=0x3:0x113 me=hex subme=7 psy=1 psy_rd=1.00:0.00 mixed_ref=1 me_range=16 chroma_me=1 trellis=1 8x8dct=1 cqm=0 deadzone=21,11 fast_pskip=1 chroma_qp_offset=-2 threads=3 lookahead_threads=1 sliced_threads=0 nr=0 decimate=1 interlaced=0 bluray_compat=0 constrained_intra=0 bframes=3 b_pyramid=2 b_adapt=1 b_bias=0 direct=1 weightb=1 open_gop=0 weightp=2 keyint=250 keyint_min=25 scenecut=40 intra_refresh=0 rc_lookahead=40 rc=crf mbtree=1 crf=23.0 qcomp=0.60 qpmin=0 qpmax=69 qpstep=4 ip_ratio=1.40 aq=1:1.00\n",
            "Output #0, mp4, to 'results/result_voice.mp4':\n",
            "  Metadata:\n",
            "    artist          : Getty Images\n",
            "    comment         : These motion images are protected by copyright, please contact Getty Images to obtain license for usage.  Please be advised that advertising and promotional uses of these motion images may require additional property or talent clearances.  Please contact \n",
            "    copyright       : These motion images are protected by copyright, please contact Getty Images to obtain license for usage.\n",
            "    title           : 175315053\n",
            "    encoder         : Lavf57.83.100\n",
            "    Stream #0:0: Video: h264 (libx264) (avc1 / 0x31637661), yuv420p(progressive), 3008x2008 [SAR 1:1 DAR 376:251], q=-1--1, 25 fps, 12800 tbn, 25 tbc\n",
            "    Metadata:\n",
            "      encoder         : Lavc57.107.100 libx264\n",
            "    Side data:\n",
            "      cpb: bitrate max/min/avg: 0/0/0 buffer size: 0 vbv_delay: -1\n",
            "    Stream #0:1: Audio: aac (LC) (mp4a / 0x6134706D), 48000 Hz, stereo, fltp, 128 kb/s\n",
            "    Metadata:\n",
            "      encoder         : Lavc57.107.100 aac\n",
            "frame= 1501 fps=9.0 q=-1.0 Lsize=    8100kB time=00:01:00.16 bitrate=1102.9kbits/s speed=0.362x    \n",
            "video:7118kB audio:935kB subtitle:0kB other streams:0kB global headers:0kB muxing overhead: 0.578770%\n",
            "\u001b[1;36m[libx264 @ 0x55f8db422d00] \u001b[0mframe I:7     Avg QP:16.28  size:516537\n",
            "\u001b[1;36m[libx264 @ 0x55f8db422d00] \u001b[0mframe P:378   Avg QP:16.51  size:  5378\n",
            "\u001b[1;36m[libx264 @ 0x55f8db422d00] \u001b[0mframe B:1116  Avg QP:22.89  size:  1469\n",
            "\u001b[1;36m[libx264 @ 0x55f8db422d00] \u001b[0mconsecutive B-frames:  0.9%  0.0%  0.0% 99.1%\n",
            "\u001b[1;36m[libx264 @ 0x55f8db422d00] \u001b[0mmb I  I16..4: 13.3% 74.3% 12.4%\n",
            "\u001b[1;36m[libx264 @ 0x55f8db422d00] \u001b[0mmb P  I16..4:  0.1%  0.9%  0.0%  P16..4:  4.1%  0.6%  0.4%  0.0%  0.0%    skip:93.9%\n",
            "\u001b[1;36m[libx264 @ 0x55f8db422d00] \u001b[0mmb B  I16..4:  0.0%  0.1%  0.0%  B16..8:  5.0%  0.0%  0.0%  direct: 0.0%  skip:94.8%  L0:55.3% L1:44.5% BI: 0.3%\n",
            "\u001b[1;36m[libx264 @ 0x55f8db422d00] \u001b[0m8x8 transform intra:79.8% inter:94.5%\n",
            "\u001b[1;36m[libx264 @ 0x55f8db422d00] \u001b[0mcoded y,uvDC,uvAC intra: 62.4% 68.2% 27.2% inter: 0.2% 0.5% 0.0%\n",
            "\u001b[1;36m[libx264 @ 0x55f8db422d00] \u001b[0mi16 v,h,dc,p: 12% 32% 19% 36%\n",
            "\u001b[1;36m[libx264 @ 0x55f8db422d00] \u001b[0mi8 v,h,dc,ddl,ddr,vr,hd,vl,hu: 15% 32% 35%  1%  3%  2%  8%  2%  3%\n",
            "\u001b[1;36m[libx264 @ 0x55f8db422d00] \u001b[0mi4 v,h,dc,ddl,ddr,vr,hd,vl,hu: 22% 37% 11%  1% 10%  3% 13%  1%  2%\n",
            "\u001b[1;36m[libx264 @ 0x55f8db422d00] \u001b[0mi8c dc,h,v,p: 35% 38% 19%  8%\n",
            "\u001b[1;36m[libx264 @ 0x55f8db422d00] \u001b[0mWeighted P-Frames: Y:0.0% UV:0.0%\n",
            "\u001b[1;36m[libx264 @ 0x55f8db422d00] \u001b[0mref P L0: 57.1%  2.4% 26.7% 13.7%\n",
            "\u001b[1;36m[libx264 @ 0x55f8db422d00] \u001b[0mref B L0: 70.4% 27.5%  2.2%\n",
            "\u001b[1;36m[libx264 @ 0x55f8db422d00] \u001b[0mref B L1: 94.0%  6.0%\n",
            "\u001b[1;36m[libx264 @ 0x55f8db422d00] \u001b[0mkb/s:971.07\n",
            "\u001b[1;36m[aac @ 0x55f8db452000] \u001b[0mQavg: 633.203\n"
          ]
        }
      ]
    }
  ]
}